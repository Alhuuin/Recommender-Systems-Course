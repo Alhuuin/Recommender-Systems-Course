{
 "cells": [
  {
   "attachments": {},
   "cell_type": "markdown",
   "metadata": {},
   "source": [
    "# Introduction to Recommender Systems\n",
    "\n",
    "<p align=\"center\">\n",
    "    <img width=\"721\" alt=\"cover-image\" src=\"https://user-images.githubusercontent.com/49638680/204351915-373011d3-75ac-4e21-a6df-99cd1c552f2c.png\">\n",
    "</p>\n",
    "\n",
    "---\n",
    "\n",
    "# Collaborative Filtering\n",
    "\n",
    "Until now, we used item features to create a prediction for a possible ranking $y_{ij}$ of an item $j$ by a certain user $i$. \n",
    "This approach is actually really useful, even if we explored only a subset of possibilities.\n",
    "\n",
    "Before going further in this very promising approach, let's consider an alternative way to build recommendations.\n",
    "\n",
    "Indeed, here we do not want to exploit the \"knowledge\" we have about users and items, but only referring to their ratings.\n",
    "\n",
    "The idea is to learn about users and items by looking at the \"scores\" users assign to the same items.\n",
    "On one hand, we will learn about similar users since they will rate the same items similarly; on the other hand, similar items will be close in scores for the same user.\n",
    "\n",
    "## Advantages and disadvantages of collaborative filtering\n",
    "\n",
    "### Advantages\n",
    "\n",
    "* No domain knowledge necessary.\n",
    "\n",
    "* The model can help users discover new interests. In isolation, the ML system may not know the user is interested in a given item, but the model might still recommend it because similar users are interested in that item.\n",
    "\n",
    "* The system needs only the rating matrix to train a collaborative filtering model. In particular, the system does not need contextual features.\n",
    "\n",
    "### Disadvantages\n",
    "\n",
    "* Cold start. The system cannot handle new items nor users.\n",
    "\n",
    "* Including extra features can be messy and toilsome."
   ]
  },
  {
   "cell_type": "code",
   "execution_count": null,
   "metadata": {},
   "outputs": [],
   "source": []
  },
  {
   "cell_type": "code",
   "execution_count": null,
   "metadata": {},
   "outputs": [],
   "source": []
  }
 ],
 "metadata": {
  "kernelspec": {
   "display_name": "Python 3",
   "language": "python",
   "name": "python3"
  },
  "language_info": {
   "name": "python",
   "version": "3.9.6"
  },
  "orig_nbformat": 4,
  "vscode": {
   "interpreter": {
    "hash": "31f2aee4e71d21fbe5cf8b01ff0e069b9275f58929596ceb00d14d90e3e16cd6"
   }
  }
 },
 "nbformat": 4,
 "nbformat_minor": 2
}
